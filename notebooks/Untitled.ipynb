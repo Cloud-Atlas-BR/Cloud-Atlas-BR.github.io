{
 "cells": [
  {
   "cell_type": "code",
   "execution_count": 35,
   "metadata": {},
   "outputs": [],
   "source": [
    "import boto3\n",
    "import sagemaker\n",
    "import pandas as pd\n",
    "from sagemaker import image_uris\n",
    "from sagemaker  import TrainingInput\n",
    "from sagemaker.session import Session\n",
    "from sklearn.datasets import load_iris"
   ]
  },
  {
   "cell_type": "code",
   "execution_count": 36,
   "metadata": {},
   "outputs": [],
   "source": [
    "X, y = load_iris(return_X_y=True, as_frame=True)\n",
    "dados = pd.concat([y, X], axis=1)\n",
    "dados.to_csv(\"data/dados.csv\", header=False, index=False)"
   ]
  },
  {
   "cell_type": "code",
   "execution_count": 37,
   "metadata": {},
   "outputs": [],
   "source": [
    "bucket = sagemaker.Session().default_bucket()"
   ]
  },
  {
   "cell_type": "code",
   "execution_count": 38,
   "metadata": {},
   "outputs": [],
   "source": [
    "xgboost_container = sagemaker.image_uris.retrieve(\"xgboost\", \"us-east-1\", \"1.2-1\")"
   ]
  },
  {
   "cell_type": "code",
   "execution_count": 39,
   "metadata": {},
   "outputs": [],
   "source": [
    "role = \"arn:aws:iam::885248014373:role/service-role/AmazonSageMaker-ExecutionRole-20210305T230941\""
   ]
  },
  {
   "cell_type": "code",
   "execution_count": 40,
   "metadata": {},
   "outputs": [],
   "source": [
    "# initialize hyperparameters\n",
    "hyperparameters = {\n",
    "    \"objective\":\"multi:softmax\",\n",
    "    \"num_round\":\"2\",\n",
    "    \"num_class\": 3\n",
    "}"
   ]
  },
  {
   "cell_type": "code",
   "execution_count": 41,
   "metadata": {},
   "outputs": [],
   "source": [
    "estimator = sagemaker.estimator.Estimator(image_uri=xgboost_container, \n",
    "                                          role=role,\n",
    "                                          hyperparameters=hyperparameters,\n",
    "                                          instance_count=1, \n",
    "                                          instance_type='ml.m5.2xlarge', \n",
    "                                          volume_size=5,\n",
    "                                          output_path=f\"s3://{bucket}\")"
   ]
  },
  {
   "cell_type": "code",
   "execution_count": 42,
   "metadata": {},
   "outputs": [
    {
     "data": {
      "text/plain": [
       "'s3://sagemaker-us-east-1-885248014373/data'"
      ]
     },
     "execution_count": 42,
     "metadata": {},
     "output_type": "execute_result"
    }
   ],
   "source": [
    "input_data = sagemaker.Session().upload_data(path=\"data\", bucket=bucket)\n",
    "input_data"
   ]
  },
  {
   "cell_type": "code",
   "execution_count": 43,
   "metadata": {},
   "outputs": [],
   "source": [
    "train_input = TrainingInput(input_data, content_type=\"csv\")"
   ]
  },
  {
   "cell_type": "code",
   "execution_count": 44,
   "metadata": {
    "scrolled": true
   },
   "outputs": [
    {
     "name": "stdout",
     "output_type": "stream",
     "text": [
      "2021-03-09 14:43:40 Starting - Starting the training job...\n",
      "2021-03-09 14:44:03 Starting - Launching requested ML instancesProfilerReport-1615301019: InProgress\n",
      "......\n",
      "2021-03-09 14:45:13 Starting - Preparing the instances for training...\n",
      "2021-03-09 14:45:52 Downloading - Downloading input data...\n",
      "2021-03-09 14:46:25 Training - Downloading the training image..\u001b[34m[2021-03-09 14:46:34.831 ip-10-0-106-166.ec2.internal:1 INFO utils.py:27] RULE_JOB_STOP_SIGNAL_FILENAME: None\u001b[0m\n",
      "\u001b[34mINFO:sagemaker-containers:Imported framework sagemaker_xgboost_container.training\u001b[0m\n",
      "\u001b[34mINFO:sagemaker-containers:Failed to parse hyperparameter objective value multi:softmax to Json.\u001b[0m\n",
      "\u001b[34mReturning the value itself\u001b[0m\n",
      "\u001b[34mINFO:sagemaker-containers:No GPUs detected (normal if no gpus installed)\u001b[0m\n",
      "\u001b[34mINFO:sagemaker_xgboost_container.training:Running XGBoost Sagemaker in algorithm mode\u001b[0m\n",
      "\u001b[34mINFO:root:Determined delimiter of CSV input is ','\u001b[0m\n",
      "\u001b[34mINFO:root:Determined delimiter of CSV input is ','\u001b[0m\n",
      "\u001b[34mINFO:root:Determined delimiter of CSV input is ','\u001b[0m\n",
      "\u001b[34mINFO:root:Single node training.\u001b[0m\n",
      "\u001b[34mINFO:root:Train matrix has 300 rows\u001b[0m\n",
      "\u001b[34mERROR:sagemaker-containers:Reporting training FAILURE\u001b[0m\n",
      "\u001b[34mERROR:sagemaker-containers:framework error: \u001b[0m\n",
      "\u001b[34mTraceback (most recent call last):\n",
      "  File \"/miniconda3/lib/python3.7/site-packages/sagemaker_xgboost_container/algorithm_mode/train.py\", line 226, in train_job\n",
      "    verbose_eval=False)\n",
      "  File \"/miniconda3/lib/python3.7/site-packages/xgboost/training.py\", line 212, in train\n",
      "    xgb_model=xgb_model, callbacks=callbacks)\n",
      "  File \"/miniconda3/lib/python3.7/site-packages/xgboost/training.py\", line 75, in _train_internal\n",
      "    bst.update(dtrain, i, obj)\n",
      "  File \"/miniconda3/lib/python3.7/site-packages/xgboost/core.py\", line 1161, in update\n",
      "    dtrain.handle))\n",
      "  File \"/miniconda3/lib/python3.7/site-packages/xgboost/core.py\", line 188, in _check_call\n",
      "    raise XGBoostError(py_str(_LIB.XGBGetLastError()))\u001b[0m\n",
      "\u001b[34mxgboost.core.XGBoostError: [14:46:34] ../src/objective/multiclass_obj.cu:117: SoftmaxMultiClassObj: label must be in [0, num_class).\u001b[0m\n",
      "\u001b[34mStack trace:\n",
      "  [bt] (0) /miniconda3/lib/python3.7/site-packages/xgboost/lib/libxgboost.so(+0xa5dc4) [0x7fb65b1f5dc4]\n",
      "  [bt] (1) /miniconda3/lib/python3.7/site-packages/xgboost/lib/libxgboost.so(+0x3d6445) [0x7fb65b526445]\n",
      "  [bt] (2) /miniconda3/lib/python3.7/site-packages/xgboost/lib/libxgboost.so(+0x1aafdf) [0x7fb65b2fafdf]\n",
      "  [bt] (3) /miniconda3/lib/python3.7/site-packages/xgboost/lib/libxgboost.so(XGBoosterUpdateOneIter+0x55) [0x7fb65b1e7f35]\n",
      "  [bt] (4) /miniconda3/lib/python3.7/lib-dynload/../../libffi.so.7(+0x69dd) [0x7fb69ab5f9dd]\n",
      "  [bt] (5) /miniconda3/lib/python3.7/lib-dynload/../../libffi.so.7(+0x6067) [0x7fb69ab5f067]\n",
      "  [bt] (6) /miniconda3/lib/python3.7/lib-dynload/_ctypes.cpython-37m-x86_64-linux-gnu.so(_ctypes_callproc+0x2f4) [0x7fb69ab75794]\n",
      "  [bt] (7) /miniconda3/lib/python3.7/lib-dynload/_ctypes.cpython-37m-x86_64-linux-gnu.so(+0x10ff8) [0x7fb69ab75ff8]\n",
      "  [bt] (8) /miniconda3/bin/python3(_PyObject_FastCallKeywords+0x48b) [0x56528a96ca5b]\n",
      "\n",
      "\n",
      "\u001b[0m\n",
      "\u001b[34mDuring handling of the above exception, another exception occurred:\n",
      "\u001b[0m\n",
      "\u001b[34mTraceback (most recent call last):\n",
      "  File \"/miniconda3/lib/python3.7/site-packages/sagemaker_containers/_trainer.py\", line 84, in train\n",
      "    entrypoint()\n",
      "  File \"/miniconda3/lib/python3.7/site-packages/sagemaker_xgboost_container/training.py\", line 94, in main\n",
      "    train(framework.training_env())\n",
      "  File \"/miniconda3/lib/python3.7/site-packages/sagemaker_xgboost_container/training.py\", line 90, in train\n",
      "    run_algorithm_mode()\n",
      "  File \"/miniconda3/lib/python3.7/site-packages/sagemaker_xgboost_container/training.py\", line 68, in run_algorithm_mode\n",
      "    checkpoint_config=checkpoint_config\n",
      "  File \"/miniconda3/lib/python3.7/site-packages/sagemaker_xgboost_container/algorithm_mode/train.py\", line 158, in sagemaker_train\n",
      "    train_job(**train_args)\n",
      "  File \"/miniconda3/lib/python3.7/site-packages/sagemaker_xgboost_container/algorithm_mode/train.py\", line 230, in train_job\n",
      "    raise exc.UserError(str(e))\u001b[0m\n",
      "\u001b[34msagemaker_algorithm_toolkit.exceptions.UserError: [14:46:34] ../src/objective/multiclass_obj.cu:117: SoftmaxMultiClassObj: label must be in [0, num_class).\u001b[0m\n",
      "\u001b[34mStack trace:\n",
      "  [bt] (0) /miniconda3/lib/python3.7/site-packages/xgboost/lib/libxgboost.so(+0xa5dc4) [0x7fb65b1f5dc4]\n",
      "  [bt] (1) /miniconda3/lib/python3.7/site-packages/xgboost/lib/libxgboost.so(+0x3d6445) [0x7fb65b526445]\n",
      "  [bt] (2) /miniconda3/lib/python3.7/site-packages/xgboost/lib/libxgboost.so(+0x1aafdf) [0x7fb65b2fafdf]\n",
      "  [bt] (3) /miniconda3/lib/python3.7/site-packages/xgboost/lib/libxgboost.so(XGBoosterUpdateOneIter+0x55) [0x7fb65b1e7f35]\n",
      "  [bt] (4) /miniconda3/lib/python3.7/lib-dynload/../../libffi.so.7(+0x69dd) [0x7fb69ab5f9dd]\n",
      "  [bt] (5) /miniconda3/lib/python3.7/lib-dynload/../../libffi.so.7(+0x6067) [0x7fb69ab5f067]\n",
      "  [bt] (6) /miniconda3/lib/python3.7/lib-dynload/_ctypes.cpython-37m-x86_64-linux-gnu.so(_ctypes_callproc+0x2f4) [0x7fb69ab75794]\n",
      "  [bt] (7) /miniconda3/lib/python3.7/lib-dynload/_ctypes.cpython-37m-x86_64-linux-gnu.so(+0x10ff8) [0x7fb69ab75ff8]\n",
      "  [bt] (8) /miniconda3/bin/python3(_PyObject_FastCallKeywords+0x48b) [0x56528a96ca5b]\n",
      "\n",
      "\n",
      "\u001b[0m\n",
      "\u001b[34m[14:46:34] ../src/objective/multiclass_obj.cu:117: SoftmaxMultiClassObj: label must be in [0, num_class).\u001b[0m\n",
      "\u001b[34mStack trace:\n",
      "  [bt] (0) /miniconda3/lib/python3.7/site-packages/xgboost/lib/libxgboost.so(+0xa5dc4) [0x7fb65b1f5dc4]\n",
      "  [bt] (1) /miniconda3/lib/python3.7/site-packages/xgboost/lib/libxgboost.so(+0x3d6445) [0x7fb65b526445]\n",
      "  [bt] (2) /miniconda3/lib/python3.7/site-packages/xgboost/lib/libxgboost.so(+0x1aafdf) [0x7fb65b2fafdf]\n",
      "  [bt] (3) /miniconda3/lib/python3.7/site-packages/xgboost/lib/libxgboost.so(XGBoosterUpdateOneIter+0x55) [0x7fb65b1e7f35]\n",
      "  [bt] (4) /miniconda3/lib/python3.7/lib-dynload/../../libffi.so.7(+0x69dd) [0x7fb69ab5f9dd]\n",
      "  [bt] (5) /miniconda3/lib/python3.7/lib-dynload/../../libffi.so.7(+0x6067) [0x7fb69ab5f067]\n",
      "  [bt] (6) /miniconda3/lib/python3.7/lib-dynload/_ctypes.cpython-37m-x86_64-linux-gnu.so(_ctypes_callproc+0x2f4) [0x7fb69ab75794]\n",
      "  [bt] (7) /miniconda3/lib/python3.7/lib-dynload/_ctypes.cpython-37m-x86_64-linux-gnu.so(+0x10ff8) [0x7fb69ab75ff8]\n",
      "  [bt] (8) /miniconda3/bin/python3(_PyObject_FastCallKeywords+0x48b) [0x56528a96ca5b]\n",
      "\n",
      "\u001b[0m\n",
      "\n",
      "2021-03-09 14:46:57 Uploading - Uploading generated training model\n",
      "2021-03-09 14:46:57 Failed - Training job failed\n",
      "ProfilerReport-1615301019: Stopping\n"
     ]
    },
    {
     "ename": "UnexpectedStatusException",
     "evalue": "Error for Training job sagemaker-xgboost-2021-03-09-14-43-39-381: Failed. Reason: AlgorithmError: framework error: \nTraceback (most recent call last):\n  File \"/miniconda3/lib/python3.7/site-packages/sagemaker_xgboost_container/algorithm_mode/train.py\", line 226, in train_job\n    verbose_eval=False)\n  File \"/miniconda3/lib/python3.7/site-packages/xgboost/training.py\", line 212, in train\n    xgb_model=xgb_model, callbacks=callbacks)\n  File \"/miniconda3/lib/python3.7/site-packages/xgboost/training.py\", line 75, in _train_internal\n    bst.update(dtrain, i, obj)\n  File \"/miniconda3/lib/python3.7/site-packages/xgboost/core.py\", line 1161, in update\n    dtrain.handle))\n  File \"/miniconda3/lib/python3.7/site-packages/xgboost/core.py\", line 188, in _check_call\n    raise XGBoostError(py_str(_LIB.XGBGetLastError()))\nxgboost.core.XGBoostError: [14:46:34] ../src/objective/multiclass_obj.cu:117: SoftmaxMultiClassObj: label must be in [0, num_class).\nStack trace:\n  [bt] (0) /miniconda3/lib/python3.7/site-packages/xgboost/lib/libxgboost.so(+0xa5dc4) [0x7fb65b1f5dc4]\n  [bt] (1) /miniconda3/lib/python3.7/si",
     "output_type": "error",
     "traceback": [
      "\u001b[0;31m---------------------------------------------------------------------------\u001b[0m",
      "\u001b[0;31mUnexpectedStatusException\u001b[0m                 Traceback (most recent call last)",
      "\u001b[0;32m<ipython-input-44-83fcc2e8f635>\u001b[0m in \u001b[0;36m<module>\u001b[0;34m\u001b[0m\n\u001b[0;32m----> 1\u001b[0;31m \u001b[0mestimator\u001b[0m\u001b[0;34m.\u001b[0m\u001b[0mfit\u001b[0m\u001b[0;34m(\u001b[0m\u001b[0;34m{\u001b[0m\u001b[0;34m'train'\u001b[0m\u001b[0;34m:\u001b[0m \u001b[0mtrain_input\u001b[0m\u001b[0;34m}\u001b[0m\u001b[0;34m)\u001b[0m\u001b[0;34m\u001b[0m\u001b[0;34m\u001b[0m\u001b[0m\n\u001b[0m",
      "\u001b[0;32m~/.local/lib/python3.8/site-packages/sagemaker/estimator.py\u001b[0m in \u001b[0;36mfit\u001b[0;34m(self, inputs, wait, logs, job_name, experiment_config)\u001b[0m\n\u001b[1;32m    662\u001b[0m         \u001b[0mself\u001b[0m\u001b[0;34m.\u001b[0m\u001b[0mjobs\u001b[0m\u001b[0;34m.\u001b[0m\u001b[0mappend\u001b[0m\u001b[0;34m(\u001b[0m\u001b[0mself\u001b[0m\u001b[0;34m.\u001b[0m\u001b[0mlatest_training_job\u001b[0m\u001b[0;34m)\u001b[0m\u001b[0;34m\u001b[0m\u001b[0;34m\u001b[0m\u001b[0m\n\u001b[1;32m    663\u001b[0m         \u001b[0;32mif\u001b[0m \u001b[0mwait\u001b[0m\u001b[0;34m:\u001b[0m\u001b[0;34m\u001b[0m\u001b[0;34m\u001b[0m\u001b[0m\n\u001b[0;32m--> 664\u001b[0;31m             \u001b[0mself\u001b[0m\u001b[0;34m.\u001b[0m\u001b[0mlatest_training_job\u001b[0m\u001b[0;34m.\u001b[0m\u001b[0mwait\u001b[0m\u001b[0;34m(\u001b[0m\u001b[0mlogs\u001b[0m\u001b[0;34m=\u001b[0m\u001b[0mlogs\u001b[0m\u001b[0;34m)\u001b[0m\u001b[0;34m\u001b[0m\u001b[0;34m\u001b[0m\u001b[0m\n\u001b[0m\u001b[1;32m    665\u001b[0m \u001b[0;34m\u001b[0m\u001b[0m\n\u001b[1;32m    666\u001b[0m     \u001b[0;32mdef\u001b[0m \u001b[0m_compilation_job_name\u001b[0m\u001b[0;34m(\u001b[0m\u001b[0mself\u001b[0m\u001b[0;34m)\u001b[0m\u001b[0;34m:\u001b[0m\u001b[0;34m\u001b[0m\u001b[0;34m\u001b[0m\u001b[0m\n",
      "\u001b[0;32m~/.local/lib/python3.8/site-packages/sagemaker/estimator.py\u001b[0m in \u001b[0;36mwait\u001b[0;34m(self, logs)\u001b[0m\n\u001b[1;32m   1589\u001b[0m         \u001b[0;31m# If logs are requested, call logs_for_jobs.\u001b[0m\u001b[0;34m\u001b[0m\u001b[0;34m\u001b[0m\u001b[0;34m\u001b[0m\u001b[0m\n\u001b[1;32m   1590\u001b[0m         \u001b[0;32mif\u001b[0m \u001b[0mlogs\u001b[0m \u001b[0;34m!=\u001b[0m \u001b[0;34m\"None\"\u001b[0m\u001b[0;34m:\u001b[0m\u001b[0;34m\u001b[0m\u001b[0;34m\u001b[0m\u001b[0m\n\u001b[0;32m-> 1591\u001b[0;31m             \u001b[0mself\u001b[0m\u001b[0;34m.\u001b[0m\u001b[0msagemaker_session\u001b[0m\u001b[0;34m.\u001b[0m\u001b[0mlogs_for_job\u001b[0m\u001b[0;34m(\u001b[0m\u001b[0mself\u001b[0m\u001b[0;34m.\u001b[0m\u001b[0mjob_name\u001b[0m\u001b[0;34m,\u001b[0m \u001b[0mwait\u001b[0m\u001b[0;34m=\u001b[0m\u001b[0;32mTrue\u001b[0m\u001b[0;34m,\u001b[0m \u001b[0mlog_type\u001b[0m\u001b[0;34m=\u001b[0m\u001b[0mlogs\u001b[0m\u001b[0;34m)\u001b[0m\u001b[0;34m\u001b[0m\u001b[0;34m\u001b[0m\u001b[0m\n\u001b[0m\u001b[1;32m   1592\u001b[0m         \u001b[0;32melse\u001b[0m\u001b[0;34m:\u001b[0m\u001b[0;34m\u001b[0m\u001b[0;34m\u001b[0m\u001b[0m\n\u001b[1;32m   1593\u001b[0m             \u001b[0mself\u001b[0m\u001b[0;34m.\u001b[0m\u001b[0msagemaker_session\u001b[0m\u001b[0;34m.\u001b[0m\u001b[0mwait_for_job\u001b[0m\u001b[0;34m(\u001b[0m\u001b[0mself\u001b[0m\u001b[0;34m.\u001b[0m\u001b[0mjob_name\u001b[0m\u001b[0;34m)\u001b[0m\u001b[0;34m\u001b[0m\u001b[0;34m\u001b[0m\u001b[0m\n",
      "\u001b[0;32m~/.local/lib/python3.8/site-packages/sagemaker/session.py\u001b[0m in \u001b[0;36mlogs_for_job\u001b[0;34m(self, job_name, wait, poll, log_type)\u001b[0m\n\u001b[1;32m   3638\u001b[0m \u001b[0;34m\u001b[0m\u001b[0m\n\u001b[1;32m   3639\u001b[0m         \u001b[0;32mif\u001b[0m \u001b[0mwait\u001b[0m\u001b[0;34m:\u001b[0m\u001b[0;34m\u001b[0m\u001b[0;34m\u001b[0m\u001b[0m\n\u001b[0;32m-> 3640\u001b[0;31m             \u001b[0mself\u001b[0m\u001b[0;34m.\u001b[0m\u001b[0m_check_job_status\u001b[0m\u001b[0;34m(\u001b[0m\u001b[0mjob_name\u001b[0m\u001b[0;34m,\u001b[0m \u001b[0mdescription\u001b[0m\u001b[0;34m,\u001b[0m \u001b[0;34m\"TrainingJobStatus\"\u001b[0m\u001b[0;34m)\u001b[0m\u001b[0;34m\u001b[0m\u001b[0;34m\u001b[0m\u001b[0m\n\u001b[0m\u001b[1;32m   3641\u001b[0m             \u001b[0;32mif\u001b[0m \u001b[0mdot\u001b[0m\u001b[0;34m:\u001b[0m\u001b[0;34m\u001b[0m\u001b[0;34m\u001b[0m\u001b[0m\n\u001b[1;32m   3642\u001b[0m                 \u001b[0mprint\u001b[0m\u001b[0;34m(\u001b[0m\u001b[0;34m)\u001b[0m\u001b[0;34m\u001b[0m\u001b[0;34m\u001b[0m\u001b[0m\n",
      "\u001b[0;32m~/.local/lib/python3.8/site-packages/sagemaker/session.py\u001b[0m in \u001b[0;36m_check_job_status\u001b[0;34m(self, job, desc, status_key_name)\u001b[0m\n\u001b[1;32m   3215\u001b[0m             \u001b[0mreason\u001b[0m \u001b[0;34m=\u001b[0m \u001b[0mdesc\u001b[0m\u001b[0;34m.\u001b[0m\u001b[0mget\u001b[0m\u001b[0;34m(\u001b[0m\u001b[0;34m\"FailureReason\"\u001b[0m\u001b[0;34m,\u001b[0m \u001b[0;34m\"(No reason provided)\"\u001b[0m\u001b[0;34m)\u001b[0m\u001b[0;34m\u001b[0m\u001b[0;34m\u001b[0m\u001b[0m\n\u001b[1;32m   3216\u001b[0m             \u001b[0mjob_type\u001b[0m \u001b[0;34m=\u001b[0m \u001b[0mstatus_key_name\u001b[0m\u001b[0;34m.\u001b[0m\u001b[0mreplace\u001b[0m\u001b[0;34m(\u001b[0m\u001b[0;34m\"JobStatus\"\u001b[0m\u001b[0;34m,\u001b[0m \u001b[0;34m\" job\"\u001b[0m\u001b[0;34m)\u001b[0m\u001b[0;34m\u001b[0m\u001b[0;34m\u001b[0m\u001b[0m\n\u001b[0;32m-> 3217\u001b[0;31m             raise exceptions.UnexpectedStatusException(\n\u001b[0m\u001b[1;32m   3218\u001b[0m                 message=\"Error for {job_type} {job_name}: {status}. Reason: {reason}\".format(\n\u001b[1;32m   3219\u001b[0m                     \u001b[0mjob_type\u001b[0m\u001b[0;34m=\u001b[0m\u001b[0mjob_type\u001b[0m\u001b[0;34m,\u001b[0m \u001b[0mjob_name\u001b[0m\u001b[0;34m=\u001b[0m\u001b[0mjob\u001b[0m\u001b[0;34m,\u001b[0m \u001b[0mstatus\u001b[0m\u001b[0;34m=\u001b[0m\u001b[0mstatus\u001b[0m\u001b[0;34m,\u001b[0m \u001b[0mreason\u001b[0m\u001b[0;34m=\u001b[0m\u001b[0mreason\u001b[0m\u001b[0;34m\u001b[0m\u001b[0;34m\u001b[0m\u001b[0m\n",
      "\u001b[0;31mUnexpectedStatusException\u001b[0m: Error for Training job sagemaker-xgboost-2021-03-09-14-43-39-381: Failed. Reason: AlgorithmError: framework error: \nTraceback (most recent call last):\n  File \"/miniconda3/lib/python3.7/site-packages/sagemaker_xgboost_container/algorithm_mode/train.py\", line 226, in train_job\n    verbose_eval=False)\n  File \"/miniconda3/lib/python3.7/site-packages/xgboost/training.py\", line 212, in train\n    xgb_model=xgb_model, callbacks=callbacks)\n  File \"/miniconda3/lib/python3.7/site-packages/xgboost/training.py\", line 75, in _train_internal\n    bst.update(dtrain, i, obj)\n  File \"/miniconda3/lib/python3.7/site-packages/xgboost/core.py\", line 1161, in update\n    dtrain.handle))\n  File \"/miniconda3/lib/python3.7/site-packages/xgboost/core.py\", line 188, in _check_call\n    raise XGBoostError(py_str(_LIB.XGBGetLastError()))\nxgboost.core.XGBoostError: [14:46:34] ../src/objective/multiclass_obj.cu:117: SoftmaxMultiClassObj: label must be in [0, num_class).\nStack trace:\n  [bt] (0) /miniconda3/lib/python3.7/site-packages/xgboost/lib/libxgboost.so(+0xa5dc4) [0x7fb65b1f5dc4]\n  [bt] (1) /miniconda3/lib/python3.7/si"
     ]
    }
   ],
   "source": [
    "estimator.fit({'train': train_input})"
   ]
  },
  {
   "cell_type": "code",
   "execution_count": null,
   "metadata": {},
   "outputs": [],
   "source": [
    "estimator.deploy(initial_instance_count=1,\n",
    "                 instance_type=\"ml.t2.medium\", \n",
    "                 data_capture_config = data_capture_config)"
   ]
  },
  {
   "cell_type": "code",
   "execution_count": null,
   "metadata": {},
   "outputs": [],
   "source": [
    "endpointName = \"sagemaker-xgboost-2021-03-09-03-10-34-846\""
   ]
  },
  {
   "cell_type": "code",
   "execution_count": null,
   "metadata": {},
   "outputs": [],
   "source": [
    "features = pd.DataFrame(X)\n",
    "features.to_csv(\"data/features.csv\", header=False, index=False)"
   ]
  },
  {
   "cell_type": "code",
   "execution_count": null,
   "metadata": {},
   "outputs": [],
   "source": [
    "with open(\"data/features.csv\") as f:\n",
    "    er = f.read()"
   ]
  },
  {
   "cell_type": "code",
   "execution_count": null,
   "metadata": {},
   "outputs": [],
   "source": [
    "import boto3\n",
    "\n",
    "client = boto3.client(\"sagemaker-runtime\")\n",
    "\n",
    "for line in  er.splitlines():\n",
    "    response = client.invoke_endpoint(EndpointName=endpointName,\n",
    "                                      Body=line,\n",
    "                                     ContentType=\"csv\")"
   ]
  },
  {
   "cell_type": "code",
   "execution_count": null,
   "metadata": {},
   "outputs": [],
   "source": [
    "response[\"Body\"].read().decode(\"utf-8\")"
   ]
  },
  {
   "cell_type": "code",
   "execution_count": null,
   "metadata": {},
   "outputs": [],
   "source": []
  }
 ],
 "metadata": {
  "kernelspec": {
   "display_name": "Python 3",
   "language": "python",
   "name": "python3"
  },
  "language_info": {
   "codemirror_mode": {
    "name": "ipython",
    "version": 3
   },
   "file_extension": ".py",
   "mimetype": "text/x-python",
   "name": "python",
   "nbconvert_exporter": "python",
   "pygments_lexer": "ipython3",
   "version": "3.8.5"
  }
 },
 "nbformat": 4,
 "nbformat_minor": 4
}
